{
  "nbformat": 4,
  "nbformat_minor": 0,
  "metadata": {
    "colab": {
      "name": "cloud-docs.ipynb",
      "provenance": [],
      "authorship_tag": "ABX9TyOtjo0hdozc6Lj9KPSKp2FC",
      "include_colab_link": true
    },
    "kernelspec": {
      "name": "python3",
      "display_name": "Python 3"
    },
    "language_info": {
      "name": "python"
    },
    "accelerator": "GPU"
  },
  "cells": [
    {
      "cell_type": "markdown",
      "metadata": {
        "id": "view-in-github",
        "colab_type": "text"
      },
      "source": [
        "<a href=\"https://colab.research.google.com/github/DrMwaffaq/cloud/blob/main/cloud_docs.ipynb\" target=\"_parent\"><img src=\"https://colab.research.google.com/assets/colab-badge.svg\" alt=\"Open In Colab\"/></a>"
      ]
    },
    {
      "cell_type": "markdown",
      "metadata": {
        "id": "zjQLmTqmsnaP"
      },
      "source": [
        "## Ingest\n"
      ]
    },
    {
      "cell_type": "code",
      "metadata": {
        "colab": {
          "base_uri": "https://localhost:8080/",
          "height": 35
        },
        "id": "OUn0CxOKrIUt",
        "outputId": "984f78cc-5bf5-4718-b88a-38a23d45b263"
      },
      "source": [
        "def hello():\n",
        "    return \"hi\"\n",
        "hello()\n",
        "\n"
      ],
      "execution_count": 4,
      "outputs": [
        {
          "output_type": "execute_result",
          "data": {
            "application/vnd.google.colaboratory.intrinsic+json": {
              "type": "string"
            },
            "text/plain": [
              "'hi'"
            ]
          },
          "metadata": {},
          "execution_count": 4
        }
      ]
    },
    {
      "cell_type": "markdown",
      "metadata": {
        "id": "FbSHkvg6syCZ"
      },
      "source": [
        "## EDA\n",
        "\n",
        "### example of heading\n",
        "\n",
        "* one\n",
        "* two"
      ]
    },
    {
      "cell_type": "markdown",
      "metadata": {
        "id": "duUKFOjfs5ic"
      },
      "source": [
        "## Modeling"
      ]
    },
    {
      "cell_type": "markdown",
      "metadata": {
        "id": "RdUPk7RMs8dY"
      },
      "source": [
        "## Conclusion"
      ]
    }
  ]
}